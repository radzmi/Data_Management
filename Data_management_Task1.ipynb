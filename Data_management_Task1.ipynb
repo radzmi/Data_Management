{
 "cells": [
  {
   "cell_type": "markdown",
   "id": "3545ec5e",
   "metadata": {},
   "source": [
    "# AMAZON SALES DATASET\n",
    "\n",
    "Amazon was founded by Jeff Bezos in 1994  that originally began as an online bookstore and quickly expanded to become one of the world's largest e-commerce marketplaces that sells virtually everything from books to electronics to groceries and clothing. In the modern day, Amazon's portfolio includes retail, cloud computing, digital streaming, and artificial intelligence. As Amazon become larger every single year, the challange to keep the company growth will be a massive challange. The purpose of this analysis is to tackle 3 key components in Amazon that is Shipping Efficiency, Customer Retention and Loyalty, and Predictive Analytics. The dataset was collected from kaggle website:\n",
    "https://www.kaggle.com/datasets/anandshaw2001/amazon-sales-dataset/data\n",
    "\n"
   ]
  },
  {
   "cell_type": "code",
   "execution_count": 54,
   "id": "02b36e9e",
   "metadata": {},
   "outputs": [],
   "source": [
    "import pandas as pd\n",
    "import numpy as np\n",
    "\n",
    "# Import the 'seaborn' and 'matplotlib.pyplot' libraries for data visualization.\n",
    "import seaborn as sns\n",
    "import matplotlib.pyplot as plt"
   ]
  },
  {
   "cell_type": "code",
   "execution_count": 7,
   "id": "623d081a",
   "metadata": {},
   "outputs": [],
   "source": [
    "# Load data\n",
    "df = pd.read_csv('Amazon_Raw.csv')"
   ]
  },
  {
   "cell_type": "markdown",
   "id": "03071474",
   "metadata": {},
   "source": [
    "### Exploratory Data Analysis (EDA)\n",
    "Performing EDA is a critical initial step in the data analysis process that involves examining and summarizing the main characteristics of a data set before applying more formal statistical or machine learning models."
   ]
  },
  {
   "cell_type": "code",
   "execution_count": 10,
   "id": "6ef943b7",
   "metadata": {},
   "outputs": [
    {
     "data": {
      "text/html": [
       "<div>\n",
       "<style scoped>\n",
       "    .dataframe tbody tr th:only-of-type {\n",
       "        vertical-align: middle;\n",
       "    }\n",
       "\n",
       "    .dataframe tbody tr th {\n",
       "        vertical-align: top;\n",
       "    }\n",
       "\n",
       "    .dataframe thead th {\n",
       "        text-align: right;\n",
       "    }\n",
       "</style>\n",
       "<table border=\"1\" class=\"dataframe\">\n",
       "  <thead>\n",
       "    <tr style=\"text-align: right;\">\n",
       "      <th></th>\n",
       "      <th>Order ID</th>\n",
       "      <th>Order Date</th>\n",
       "      <th>Ship Date</th>\n",
       "      <th>EmailID</th>\n",
       "      <th>Geography</th>\n",
       "      <th>Category</th>\n",
       "      <th>Product Name</th>\n",
       "      <th>Sales</th>\n",
       "      <th>Quantity</th>\n",
       "      <th>Profit</th>\n",
       "    </tr>\n",
       "  </thead>\n",
       "  <tbody>\n",
       "    <tr>\n",
       "      <th>0</th>\n",
       "      <td>CA-2013-138688</td>\n",
       "      <td>13/6/2013</td>\n",
       "      <td>17/6/2013</td>\n",
       "      <td>DarrinVanHuff@gmail.com</td>\n",
       "      <td>United States,Los Angeles,California</td>\n",
       "      <td>Labels</td>\n",
       "      <td>Self-Adhesive Address Labels for Typewriters b...</td>\n",
       "      <td>14.62</td>\n",
       "      <td>2.0</td>\n",
       "      <td>6.87</td>\n",
       "    </tr>\n",
       "    <tr>\n",
       "      <th>1</th>\n",
       "      <td>CA-2011-115812</td>\n",
       "      <td>9/6/2011</td>\n",
       "      <td>14/6/2011</td>\n",
       "      <td>BrosinaHoffman@gmail.com</td>\n",
       "      <td>United States,Los Angeles,California</td>\n",
       "      <td>Furnishings</td>\n",
       "      <td>Eldon Expressions Wood and Plastic Desk Access...</td>\n",
       "      <td>48.86</td>\n",
       "      <td>7.0</td>\n",
       "      <td>14.17</td>\n",
       "    </tr>\n",
       "    <tr>\n",
       "      <th>2</th>\n",
       "      <td>CA-2011-115812</td>\n",
       "      <td>9/6/2011</td>\n",
       "      <td>14/6/2011</td>\n",
       "      <td>BrosinaHoffman@gmail.com</td>\n",
       "      <td>United States,Los Angeles,California</td>\n",
       "      <td>Art</td>\n",
       "      <td>Newell 322</td>\n",
       "      <td>7.28</td>\n",
       "      <td>4.0</td>\n",
       "      <td>1.97</td>\n",
       "    </tr>\n",
       "    <tr>\n",
       "      <th>3</th>\n",
       "      <td>CA-2011-115812</td>\n",
       "      <td>9/6/2011</td>\n",
       "      <td>14/6/2011</td>\n",
       "      <td>BrosinaHoffman@gmail.com</td>\n",
       "      <td>United States,Los Angeles,California</td>\n",
       "      <td>Phones</td>\n",
       "      <td>Mitel 5320 IP Phone VoIP phone</td>\n",
       "      <td>907.15</td>\n",
       "      <td>4.0</td>\n",
       "      <td>90.72</td>\n",
       "    </tr>\n",
       "    <tr>\n",
       "      <th>4</th>\n",
       "      <td>CA-2011-115812</td>\n",
       "      <td>9/6/2011</td>\n",
       "      <td>14/6/2011</td>\n",
       "      <td>BrosinaHoffman@gmail.com</td>\n",
       "      <td>United States,Los Angeles,California</td>\n",
       "      <td>Binders</td>\n",
       "      <td>DXL Angle-View Binders with Locking Rings by S...</td>\n",
       "      <td>18.50</td>\n",
       "      <td>3.0</td>\n",
       "      <td>5.78</td>\n",
       "    </tr>\n",
       "  </tbody>\n",
       "</table>\n",
       "</div>"
      ],
      "text/plain": [
       "         Order ID Order Date  Ship Date                   EmailID  \\\n",
       "0  CA-2013-138688  13/6/2013  17/6/2013   DarrinVanHuff@gmail.com   \n",
       "1  CA-2011-115812   9/6/2011  14/6/2011  BrosinaHoffman@gmail.com   \n",
       "2  CA-2011-115812   9/6/2011  14/6/2011  BrosinaHoffman@gmail.com   \n",
       "3  CA-2011-115812   9/6/2011  14/6/2011  BrosinaHoffman@gmail.com   \n",
       "4  CA-2011-115812   9/6/2011  14/6/2011  BrosinaHoffman@gmail.com   \n",
       "\n",
       "                              Geography     Category  \\\n",
       "0  United States,Los Angeles,California       Labels   \n",
       "1  United States,Los Angeles,California  Furnishings   \n",
       "2  United States,Los Angeles,California          Art   \n",
       "3  United States,Los Angeles,California       Phones   \n",
       "4  United States,Los Angeles,California      Binders   \n",
       "\n",
       "                                        Product Name   Sales  Quantity  Profit  \n",
       "0  Self-Adhesive Address Labels for Typewriters b...   14.62       2.0    6.87  \n",
       "1  Eldon Expressions Wood and Plastic Desk Access...   48.86       7.0   14.17  \n",
       "2                                         Newell 322    7.28       4.0    1.97  \n",
       "3                     Mitel 5320 IP Phone VoIP phone  907.15       4.0   90.72  \n",
       "4  DXL Angle-View Binders with Locking Rings by S...   18.50       3.0    5.78  "
      ]
     },
     "execution_count": 10,
     "metadata": {},
     "output_type": "execute_result"
    }
   ],
   "source": [
    "# Check for the first six row of the dataset\n",
    "df.head()"
   ]
  },
  {
   "cell_type": "code",
   "execution_count": 11,
   "id": "752634e1",
   "metadata": {},
   "outputs": [
    {
     "name": "stdout",
     "output_type": "stream",
     "text": [
      "<class 'pandas.core.frame.DataFrame'>\n",
      "RangeIndex: 3203 entries, 0 to 3202\n",
      "Data columns (total 10 columns):\n",
      " #   Column        Non-Null Count  Dtype  \n",
      "---  ------        --------------  -----  \n",
      " 0   Order ID      3203 non-null   object \n",
      " 1   Order Date    3203 non-null   object \n",
      " 2   Ship Date     3203 non-null   object \n",
      " 3   EmailID       3203 non-null   object \n",
      " 4   Geography     3203 non-null   object \n",
      " 5   Category      3203 non-null   object \n",
      " 6   Product Name  3203 non-null   object \n",
      " 7   Sales         3203 non-null   float64\n",
      " 8   Quantity      3203 non-null   float64\n",
      " 9   Profit        3203 non-null   float64\n",
      "dtypes: float64(3), object(7)\n",
      "memory usage: 250.4+ KB\n"
     ]
    }
   ],
   "source": [
    "# Information about dataset\n",
    "df.info()"
   ]
  },
  {
   "cell_type": "code",
   "execution_count": 12,
   "id": "487ae752",
   "metadata": {},
   "outputs": [
    {
     "data": {
      "text/plain": [
       "Order ID        0\n",
       "Order Date      0\n",
       "Ship Date       0\n",
       "EmailID         0\n",
       "Geography       0\n",
       "Category        0\n",
       "Product Name    0\n",
       "Sales           0\n",
       "Quantity        0\n",
       "Profit          0\n",
       "dtype: int64"
      ]
     },
     "execution_count": 12,
     "metadata": {},
     "output_type": "execute_result"
    }
   ],
   "source": [
    "# missing values\n",
    "df.isna().sum()"
   ]
  },
  {
   "cell_type": "code",
   "execution_count": 13,
   "id": "e3c93a0e",
   "metadata": {},
   "outputs": [
    {
     "data": {
      "text/plain": [
       "0"
      ]
     },
     "execution_count": 13,
     "metadata": {},
     "output_type": "execute_result"
    }
   ],
   "source": [
    "# duplicated values\n",
    "# To check if there is any duplication in the dataset\n",
    "df.duplicated().sum()"
   ]
  },
  {
   "cell_type": "code",
   "execution_count": 14,
   "id": "e9d90b9e",
   "metadata": {
    "scrolled": true
   },
   "outputs": [
    {
     "data": {
      "text/html": [
       "<div>\n",
       "<style scoped>\n",
       "    .dataframe tbody tr th:only-of-type {\n",
       "        vertical-align: middle;\n",
       "    }\n",
       "\n",
       "    .dataframe tbody tr th {\n",
       "        vertical-align: top;\n",
       "    }\n",
       "\n",
       "    .dataframe thead th {\n",
       "        text-align: right;\n",
       "    }\n",
       "</style>\n",
       "<table border=\"1\" class=\"dataframe\">\n",
       "  <thead>\n",
       "    <tr style=\"text-align: right;\">\n",
       "      <th></th>\n",
       "      <th>Sales</th>\n",
       "      <th>Quantity</th>\n",
       "      <th>Profit</th>\n",
       "    </tr>\n",
       "  </thead>\n",
       "  <tbody>\n",
       "    <tr>\n",
       "      <th>count</th>\n",
       "      <td>3203.000000</td>\n",
       "      <td>3203.000000</td>\n",
       "      <td>3203.000000</td>\n",
       "    </tr>\n",
       "    <tr>\n",
       "      <th>mean</th>\n",
       "      <td>226.493266</td>\n",
       "      <td>3.828910</td>\n",
       "      <td>33.849138</td>\n",
       "    </tr>\n",
       "    <tr>\n",
       "      <th>std</th>\n",
       "      <td>524.876911</td>\n",
       "      <td>2.260947</td>\n",
       "      <td>174.109155</td>\n",
       "    </tr>\n",
       "    <tr>\n",
       "      <th>min</th>\n",
       "      <td>0.990000</td>\n",
       "      <td>1.000000</td>\n",
       "      <td>-3399.980000</td>\n",
       "    </tr>\n",
       "    <tr>\n",
       "      <th>25%</th>\n",
       "      <td>19.440000</td>\n",
       "      <td>2.000000</td>\n",
       "      <td>3.850000</td>\n",
       "    </tr>\n",
       "    <tr>\n",
       "      <th>50%</th>\n",
       "      <td>60.840000</td>\n",
       "      <td>3.000000</td>\n",
       "      <td>11.170000</td>\n",
       "    </tr>\n",
       "    <tr>\n",
       "      <th>75%</th>\n",
       "      <td>215.810000</td>\n",
       "      <td>5.000000</td>\n",
       "      <td>33.000000</td>\n",
       "    </tr>\n",
       "    <tr>\n",
       "      <th>max</th>\n",
       "      <td>13999.960000</td>\n",
       "      <td>14.000000</td>\n",
       "      <td>6719.980000</td>\n",
       "    </tr>\n",
       "  </tbody>\n",
       "</table>\n",
       "</div>"
      ],
      "text/plain": [
       "              Sales     Quantity       Profit\n",
       "count   3203.000000  3203.000000  3203.000000\n",
       "mean     226.493266     3.828910    33.849138\n",
       "std      524.876911     2.260947   174.109155\n",
       "min        0.990000     1.000000 -3399.980000\n",
       "25%       19.440000     2.000000     3.850000\n",
       "50%       60.840000     3.000000    11.170000\n",
       "75%      215.810000     5.000000    33.000000\n",
       "max    13999.960000    14.000000  6719.980000"
      ]
     },
     "execution_count": 14,
     "metadata": {},
     "output_type": "execute_result"
    }
   ],
   "source": [
    "# Describe data\n",
    "df.describe()"
   ]
  },
  {
   "cell_type": "code",
   "execution_count": 21,
   "id": "7eeefba1",
   "metadata": {},
   "outputs": [],
   "source": [
    "# make a copy of the current data frame\n",
    "amazon = df.copy()"
   ]
  },
  {
   "cell_type": "markdown",
   "id": "82e880b4",
   "metadata": {},
   "source": [
    "### Customer Segmentation\n",
    "\n",
    "Customer segmentation is a marketing strategy that involves dividing a customer base into smaller groups of individuals that share similar characteristics. The goal of customer segmentation is to allow companies to tailor marketing strategies and product offerings to meet the specific needs for customers leading to more efficient use of marketing resources and higher customer satisfaction and loyalty. There are several benefits of customer segmentation such as improved customer retention, efficient resource management and product recommendations. \n",
    "\n",
    "For this analysis, RFM analysis technique are selected as it categorizes customers based on their transaction history. The RFM stands for Recency, Frequency, and Monetary value, each corresponding to key customer traits. This technique is usefull for identifying which customers are most likely to respond to new offers and which ones are most profitable or loyal."
   ]
  },
  {
   "cell_type": "code",
   "execution_count": 17,
   "id": "8d68520b",
   "metadata": {},
   "outputs": [],
   "source": [
    "#  import the datetime module \n",
    "import datetime as dt"
   ]
  },
  {
   "cell_type": "code",
   "execution_count": 28,
   "id": "808f96fa",
   "metadata": {},
   "outputs": [],
   "source": [
    "# Convert Order Dates to Monthly Periods\n",
    "# Comparing data on a month-by-month basis rather than on specific dates\n",
    "amazon['order_month'] = amazon['Order Date'].dt.to_period('M')\n",
    "\n",
    "# Determine the Cohort Month for Each Customer\n",
    "# Assigns every transaction of a customer to the cohort of their first purchase month\n",
    "amazon['cohort_month'] = amazon.groupby('EmailID')['order_month'].transform('min')\n",
    "\n",
    "# Calculate the Cohort Index\n",
    "# Represents how many months have passed since the first purchase within that customer's cohort\n",
    "amazon['cohort_index'] =  abs(amazon['order_month'].dt.month - amazon['cohort_month'].dt.month) + 1"
   ]
  },
  {
   "cell_type": "code",
   "execution_count": 29,
   "id": "a9fb2e97",
   "metadata": {},
   "outputs": [],
   "source": [
    "# Creating reference date\n",
    "reference_date = amazon['Order Date'].max()  + dt.timedelta(days=1)"
   ]
  },
  {
   "cell_type": "code",
   "execution_count": 31,
   "id": "fa2d95c6",
   "metadata": {},
   "outputs": [],
   "source": [
    "# Calculate RFM metrics\n",
    "rfm_metrics = amazon.groupby(['EmailID']).agg({\n",
    "    'Order Date': lambda x: (reference_date - x.max()).days,  # Recency: Days since last order\n",
    "    'Order ID': 'count',                                      # Frequency: Total number of transactions\n",
    "    'Sales': 'sum'                                            # Monetary: Total money spent\n",
    "})"
   ]
  },
  {
   "cell_type": "code",
   "execution_count": 44,
   "id": "ecd53416",
   "metadata": {},
   "outputs": [],
   "source": [
    "# Building RFM \n",
    "# Define quartiles \n",
    "recency_quartiles = pd.qcut(rfm_metrics['Order Date'], 4, labels=range(4,0,-1))\n",
    "frequency_quartiles = pd.qcut(rfm_metrics['Order ID'], 4, labels=range(1,5))\n",
    "monetary_quartiles = pd.qcut(rfm_metrics['Sales'], 4, labels=range(1,5))\n",
    "rfm_metrics = rfm_metrics.assign(R=recency_quartiles,F=frequency_quartiles,M=monetary_quartiles)\n"
   ]
  },
  {
   "cell_type": "code",
   "execution_count": 46,
   "id": "c9a87833",
   "metadata": {},
   "outputs": [
    {
     "name": "stdout",
     "output_type": "stream",
     "text": [
      "R    category\n",
      "F    category\n",
      "M    category\n",
      "dtype: object\n"
     ]
    }
   ],
   "source": [
    "# Creating RFM Segmentation\n",
    "# Combining the Recency, Frequency, and Monetary scores into a unified segment\n",
    "rfm_metrics['RFM_Segment'] = rfm_metrics['R'].astype(int).astype(str) + rfm_metrics['F'].astype(int).astype(str) + rfm_metrics['M'].astype(int).astype(str)\n",
    "\n",
    "print(rfm_metrics[['R', 'F', 'M']].dtypes)\n"
   ]
  },
  {
   "cell_type": "code",
   "execution_count": 47,
   "id": "23a1dd00",
   "metadata": {},
   "outputs": [],
   "source": [
    "# Creating Score\n",
    "rfm_metrics['RFM_Score'] = rfm_metrics[['R','F','M']].sum(axis=1)"
   ]
  },
  {
   "cell_type": "code",
   "execution_count": 51,
   "id": "0eed0780",
   "metadata": {},
   "outputs": [
    {
     "name": "stdout",
     "output_type": "stream",
     "text": [
      "RFM_Segment\n",
      "111    64\n",
      "112    32\n",
      "444    31\n",
      "344    29\n",
      "244    28\n",
      "211    24\n",
      "443    23\n",
      "311    20\n",
      "322    18\n",
      "432    17\n",
      "223    16\n",
      "333    16\n",
      "243    16\n",
      "411    15\n",
      "221    14\n",
      "222    14\n",
      "323    14\n",
      "343    14\n",
      "334    13\n",
      "113    13\n",
      "423    13\n",
      "144    13\n",
      "332    12\n",
      "212    12\n",
      "122    12\n",
      "422    12\n",
      "421    11\n",
      "434    11\n",
      "123    11\n",
      "312    11\n",
      "234    10\n",
      "232     9\n",
      "412     9\n",
      "233     9\n",
      "321     8\n",
      "433     8\n",
      "324     7\n",
      "424     7\n",
      "442     7\n",
      "121     7\n",
      "224     5\n",
      "133     5\n",
      "134     5\n",
      "413     4\n",
      "213     4\n",
      "124     4\n",
      "242     4\n",
      "231     3\n",
      "114     3\n",
      "214     3\n",
      "143     3\n",
      "313     2\n",
      "431     2\n",
      "331     2\n",
      "314     2\n",
      "342     2\n",
      "441     1\n",
      "414     1\n",
      "341     1\n",
      "Name: count, dtype: int64\n"
     ]
    }
   ],
   "source": [
    "# Count the number of customers in each segment\n",
    "segment_distribution = rfm_metrics['RFM_Segment'].value_counts()\n",
    "print(segment_distribution)\n"
   ]
  },
  {
   "cell_type": "code",
   "execution_count": 52,
   "id": "b8252783",
   "metadata": {},
   "outputs": [
    {
     "name": "stdout",
     "output_type": "stream",
     "text": [
      "RFM_Segment\n",
      "111    64\n",
      "112    32\n",
      "444    31\n",
      "344    29\n",
      "244    28\n",
      "211    24\n",
      "443    23\n",
      "311    20\n",
      "322    18\n",
      "432    17\n",
      "223    16\n",
      "333    16\n",
      "243    16\n",
      "411    15\n",
      "222    14\n",
      "Name: count, dtype: int64\n"
     ]
    }
   ],
   "source": [
    "# Sorting to view the top 15\n",
    "top_segments = segment_distribution.sort_values(ascending=False)\n",
    "print(top_segments.head(15))\n"
   ]
  },
  {
   "cell_type": "code",
   "execution_count": 59,
   "id": "404fac4f",
   "metadata": {},
   "outputs": [
    {
     "name": "stdout",
     "output_type": "stream",
     "text": [
      "              Order Date   Order ID        Sales  RFM_Score\n",
      "RFM_Segment                                                \n",
      "444            39.322581   9.741935  3095.614194       12.0\n",
      "443            39.869565   9.260870   988.146522       11.0\n",
      "434            44.727273   5.454545  2503.790909       11.0\n",
      "344           137.724138  10.448276  2956.510000       11.0\n",
      "442            22.000000   7.857143   513.525714       10.0\n",
      "433            43.625000   5.500000  1167.742500       10.0\n",
      "334           174.230769   5.538462  2709.221538       10.0\n",
      "244           392.714286   9.392857  2929.039643       10.0\n",
      "424            46.571429   3.714286  2518.872857       10.0\n",
      "343           162.142857   9.785714  1026.774286       10.0\n",
      "414            45.000000   1.000000  1919.980000        9.0\n",
      "333           146.187500   5.812500  1085.463750        9.0\n",
      "342           190.000000   7.000000   466.545000        9.0\n",
      "243           358.500000   8.750000   977.748750        9.0\n",
      "234           348.700000   5.600000  3817.164000        9.0\n",
      "324           184.857143   3.714286  1903.505714        9.0\n",
      "441            78.000000   7.000000   180.970000        9.0\n",
      "423            43.307692   3.384615   974.642308        9.0\n",
      "144           835.692308   8.615385  2121.610769        9.0\n",
      "432            39.352941   5.529412   435.481765        9.0\n",
      "143           743.666667   8.000000   972.816667        8.0\n",
      "431            47.000000   6.000000   173.925000        8.0\n",
      "323           172.428571   3.500000   954.391429        8.0\n",
      "332           172.750000   5.333333   367.812500        8.0\n",
      "314           221.500000   2.000000  2444.020000        8.0\n",
      "341           176.000000   8.000000   168.200000        8.0\n",
      "413            37.250000   2.000000   918.772500        8.0\n",
      "134           876.200000   5.400000  2087.360000        8.0\n",
      "242           481.250000   7.250000   443.942500        8.0\n",
      "233           349.111111   5.444444   955.247778        8.0\n",
      "422            48.250000   3.666667   317.638333        8.0\n",
      "224           443.800000   3.400000  2875.124000        8.0\n",
      "331           169.500000   5.000000   128.070000        7.0\n",
      "412            45.333333   1.777778   409.583333        7.0\n",
      "421            45.909091   3.272727   142.834545        7.0\n",
      "313           174.500000   2.000000   695.170000        7.0\n",
      "322           156.166667   3.500000   355.661667        7.0\n",
      "232           343.888889   5.222222   409.637778        7.0\n",
      "124           760.000000   3.500000  1998.990000        7.0\n",
      "133           774.400000   5.200000  1096.966000        7.0\n",
      "223           402.375000   3.375000   894.158125        7.0\n",
      "214           381.000000   1.666667  1999.070000        7.0\n",
      "231           403.666667   5.666667   133.280000        6.0\n",
      "114           900.000000   1.666667  2146.996667        6.0\n",
      "222           409.285714   3.428571   350.789286        6.0\n",
      "321           179.375000   3.375000   147.492500        6.0\n",
      "213           408.000000   2.000000  1039.645000        6.0\n",
      "411            46.533333   1.466667    46.620667        6.0\n",
      "312           160.272727   1.727273   302.298182        6.0\n",
      "123           948.090909   3.454545  1050.867273        6.0\n",
      "311           158.000000   1.400000    72.311500        5.0\n",
      "221           429.785714   3.571429   109.971429        5.0\n",
      "212           422.166667   1.666667   399.480000        5.0\n",
      "113          1045.153846   1.538462  1006.628462        5.0\n",
      "122           890.833333   3.333333   407.719167        5.0\n",
      "211           412.458333   1.291667    63.797083        4.0\n",
      "121           777.571429   3.000000   109.427143        4.0\n",
      "112           923.312500   1.656250   356.959375        4.0\n",
      "111           957.062500   1.312500    68.962500        3.0\n"
     ]
    }
   ],
   "source": [
    "# Calculate average values for each RFM score within segments\n",
    "segment_profiles = rfm_metrics.groupby('RFM_Segment').agg({\n",
    "    'Order Date': 'mean',\n",
    "    'Order ID': 'mean',\n",
    "    'Sales': 'mean',\n",
    "    'RFM_Score': 'mean' \n",
    "}).sort_values(by='RFM_Score', ascending=False)\n",
    "\n",
    "print(segment_profiles)\n"
   ]
  },
  {
   "cell_type": "code",
   "execution_count": 62,
   "id": "c04d2044",
   "metadata": {},
   "outputs": [
    {
     "name": "stdout",
     "output_type": "stream",
     "text": [
      "          Order Date Order ID   Sales      \n",
      "                mean     mean    mean count\n",
      "RFM_Score                                  \n",
      "3              957.1      1.3    69.0    64\n",
      "4              712.5      1.7   217.8    63\n",
      "5              542.5      2.2   362.8    71\n",
      "6              371.0      2.7   473.5    69\n",
      "7              278.5      3.5   642.7    79\n",
      "8              271.6      4.6   942.1    73\n",
      "9              265.2      6.1  1408.3    96\n",
      "10             212.5      7.8  2106.2    77\n",
      "11              85.8      9.1  2158.9    63\n",
      "12              39.3      9.7  3095.6    31\n"
     ]
    }
   ],
   "source": [
    "# Define the aggregation dictionary\n",
    "aggregations = {\n",
    "    'Order Date': 'mean',\n",
    "    'Order ID': 'mean',\n",
    "    'Sales': ['mean', 'count']\n",
    "}\n",
    "\n",
    "# Perform the groupby and aggregation\n",
    "result = rfm_metrics.groupby('RFM_Score').agg(aggregations).round(1)\n",
    "\n",
    "print(result)"
   ]
  },
  {
   "cell_type": "code",
   "execution_count": 64,
   "id": "5ef9d017",
   "metadata": {},
   "outputs": [],
   "source": [
    "# Create conditions for all segments\n",
    "conditions = [\n",
    "    rfm_metrics['RFM_Score'] > 9,\n",
    "    (rfm_metrics['RFM_Score'] > 5) & (rfm_metrics['RFM_Score'] <= 9),\n",
    "    rfm_metrics['RFM_Score'] <= 5\n",
    "]\n",
    "\n",
    "# Labels for each condition\n",
    "labels = ['Gold', 'Silver', 'Bronze']\n",
    "\n",
    "# Create new column called General Segment\n",
    "rfm_metrics['General_Segment'] = np.select(conditions, labels, default='Bronze')"
   ]
  },
  {
   "cell_type": "code",
   "execution_count": 74,
   "id": "3c7dbfc6",
   "metadata": {},
   "outputs": [],
   "source": [
    "# Counts each segment and aligned the color code with segments\n",
    "segment_counts = rfm_metrics['General_Segment'].value_counts().sort_index()"
   ]
  },
  {
   "cell_type": "code",
   "execution_count": 78,
   "id": "46378e2f",
   "metadata": {},
   "outputs": [
    {
     "data": {
      "text/plain": [
       "Text(0, 0.5, 'Number of Customers')"
      ]
     },
     "execution_count": 78,
     "metadata": {},
     "output_type": "execute_result"
    },
    {
     "data": {
      "image/png": "[encoded data removed]",
      "text/plain": [
       "<Figure size 1000x600 with 1 Axes>"
      ]
     },
     "metadata": {},
     "output_type": "display_data"
    }
   ],
   "source": [
    "# create a bar plot\n",
    "colors = ['#CD7F32','#FFD700','#C0C0C0']\n",
    "plt.figure(figsize=(10, 6)) \n",
    "ax = sns.barplot(x=segment_counts.index, y=segment_counts.values, palette=colors)\n",
    "\n",
    "plt.title('Distribution of Customer Segments', fontsize=16)\n",
    "plt.xlabel('Customer Segment', fontsize=12)\n",
    "plt.ylabel('Number of Customers', fontsize=12)"
   ]
  },
  {
   "cell_type": "markdown",
   "id": "e464d0e2",
   "metadata": {},
   "source": [
    "### Based on this RFM analysis:\n",
    "1. The silver segment are the largest compare to the others followed by bronze and gold. This shows that a lot of the customers showing moderate engaged segment, with moderate purchases, moderate time of inactivity, and moderate monetary value. This can be a good sign as customer quite frequently spending in the website but not frequent enough. Amazon will need to plan an event such as targeted marketing strategies, loyalty programs that can push this segment to gold segments. \n",
    "2. The bronze section could provide insights into what improvements could be made to the product line or customer service experience to increase their RFM scores.\n",
    "3. Gold segments indicates customers who shop more recently, more frequently, and have spent more money. This is the customers that Amazon should look to retain for their lifetime as it yield the highest profit for the company. "
   ]
  },
  {
   "cell_type": "code",
   "execution_count": null,
   "id": "758844c0",
   "metadata": {},
   "outputs": [],
   "source": []
  }
 ],
 "metadata": {
  "kernelspec": {
   "display_name": "Python 3 (ipykernel)",
   "language": "python",
   "name": "python3"
  },
  "language_info": {
   "codemirror_mode": {
    "name": "ipython",
    "version": 3
   },
   "file_extension": ".py",
   "mimetype": "text/x-python",
   "name": "python",
   "nbconvert_exporter": "python",
   "pygments_lexer": "ipython3",
   "version": "3.11.5"
  }
 },
 "nbformat": 4,
 "nbformat_minor": 5
}
